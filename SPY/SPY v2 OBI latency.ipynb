{
 "cells": [
  {
   "cell_type": "markdown",
   "metadata": {
    "id": "ovO8rglg8Cd4"
   },
   "source": [
    "Idea from https://towardsdatascience.com/price-impact-of-order-book-imbalance-in-cryptocurrency-markets-bf39695246f6"
   ]
  },
  {
   "cell_type": "markdown",
   "metadata": {
    "id": "A9nsjGi35ibq"
   },
   "source": [
    "### Data Preprosessing"
   ]
  },
  {
   "cell_type": "code",
   "execution_count": 3,
   "metadata": {
    "id": "OChEhYUr76mG"
   },
   "outputs": [],
   "source": [
    "import pandas as pd\n",
    "import numpy as np\n",
    "import math\n",
    "from datetime import datetime\n",
    "from datetime import timedelta\n",
    "import matplotlib.pyplot as plt"
   ]
  },
  {
   "cell_type": "code",
   "execution_count": 4,
   "metadata": {
    "colab": {
     "base_uri": "https://localhost:8080/",
     "height": 619
    },
    "executionInfo": {
     "elapsed": 8853,
     "status": "ok",
     "timestamp": 1618630172077,
     "user": {
      "displayName": "Trai Torsricharoen",
      "photoUrl": "",
      "userId": "06873740785478389224"
     },
     "user_tz": -420
    },
    "id": "YlNxhJnC8vCy",
    "outputId": "5503b5f2-c81c-42e1-cd06-d344f69b8733"
   },
   "outputs": [
    {
     "name": "stderr",
     "output_type": "stream",
     "text": [
      "c:\\users\\dylan\\appdata\\local\\programs\\python\\python38\\lib\\site-packages\\IPython\\core\\interactiveshell.py:3165: DtypeWarning: Columns (3,4,5,6,7,8,9,10,11,12,13,14,15,16,17,18,19,20,21,22,23,24,25,26,27,28,29,30,31,32) have mixed types.Specify dtype option on import or set low_memory=False.\n",
      "  has_raised = await self.run_ast_nodes(code_ast.body, cell_name,\n"
     ]
    }
   ],
   "source": [
    "data = pd.read_csv('20200130.SPY.csv')\n",
    "data = data.apply(pd.to_numeric, errors='coerce')\n",
    "#dtype={'a1p':float,'a2p':float,'a3p':float,'a4p':float,'a5p':float,'b1p':float, 'b2p':float,'b3p':float,'b4p':float,'b5p':float,'a1s':int,'a2s':int,'a3s':int,'a4s':int,'a5s':int, 'b1s':int,'b2s':int,'b3s':int,'b4s':int,'b5s':int})"
   ]
  },
  {
   "cell_type": "code",
   "execution_count": 5,
   "metadata": {
    "id": "WL8tirLS8-s2"
   },
   "outputs": [],
   "source": [
    "data['level_1'] = (data.b1s + data.a1s)/(data.b1s + data.a1s.abs())\n",
    "data['level_2'] = (data.b1s + data.b2s + data.a1s + data.a2s)/(data.b1s + \\\n",
    "                  data.b2s + data.a1s.abs() + data.a2s.abs())\n",
    "data['level_3'] = (data.b1s + data.b2s + data.b3s + data.a1s + data.a2s + data.a3s)/ \\\n",
    "                  (data.b1s + data.b2s + data.b3s + data.a1s.abs() + data.a2s.abs() \\\n",
    "                  + data.a3s.abs())\n",
    "data['level_4'] = (data.b1s + data.b2s + data.b3s + data.b4s + \\\n",
    "                  data.a1s + data.a2s + data.a3s + data.a4s)/ \\\n",
    "                  (data.b1s + data.b2s + data.b3s + data.b4s + \\\n",
    "                   data.a1s.abs() + data.a2s.abs() + data.a3s.abs() + data.a4s.abs())\n",
    "data['level_5'] = (data.b1s + data.b2s + data.b3s + data.b4s + data.b5s + \\\n",
    "                  data.a1s + data.a2s + data.a3s + data.a4s + data.a5s)/ \\\n",
    "                  (data.b1s + data.b2s + data.b3s + data.b4s + data.b5s + \\\n",
    "                   data.a1s.abs() + data.a2s.abs() + data.a3s.abs() + data.a4s.abs() + data.a5s.abs())                             "
   ]
  },
  {
   "cell_type": "code",
   "execution_count": 6,
   "metadata": {
    "colab": {
     "base_uri": "https://localhost:8080/",
     "height": 1000
    },
    "executionInfo": {
     "elapsed": 9318,
     "status": "ok",
     "timestamp": 1618630172560,
     "user": {
      "displayName": "Trai Torsricharoen",
      "photoUrl": "",
      "userId": "06873740785478389224"
     },
     "user_tz": -420
    },
    "id": "0C_Y7YcNuoyc",
    "outputId": "dd980728-fac8-4aad-9993-66f1bbad7264"
   },
   "outputs": [],
   "source": [
    "data['bid_1_change'] = data.b1p - data.b1p.shift(1)\n",
    "data['ask_1_change'] = data.a1p - data.a1p.shift(1)"
   ]
  },
  {
   "cell_type": "code",
   "execution_count": 7,
   "metadata": {},
   "outputs": [],
   "source": [
    "data['last_ticker'] = (data.Nanoseconds != data.Nanoseconds.shift(-1))"
   ]
  },
  {
   "cell_type": "code",
   "execution_count": 8,
   "metadata": {},
   "outputs": [],
   "source": [
    "data[\"bid_minus_ask\"] = data.b1p - data.a1p"
   ]
  },
  {
   "cell_type": "code",
   "execution_count": 9,
   "metadata": {},
   "outputs": [
    {
     "data": {
      "text/html": [
       "<div>\n",
       "<style scoped>\n",
       "    .dataframe tbody tr th:only-of-type {\n",
       "        vertical-align: middle;\n",
       "    }\n",
       "\n",
       "    .dataframe tbody tr th {\n",
       "        vertical-align: top;\n",
       "    }\n",
       "\n",
       "    .dataframe thead th {\n",
       "        text-align: right;\n",
       "    }\n",
       "</style>\n",
       "<table border=\"1\" class=\"dataframe\">\n",
       "  <thead>\n",
       "    <tr style=\"text-align: right;\">\n",
       "      <th></th>\n",
       "      <th>Unnamed: 0</th>\n",
       "      <th>Nanoseconds</th>\n",
       "      <th>Timestamp</th>\n",
       "      <th>a1p</th>\n",
       "      <th>a1s</th>\n",
       "      <th>a1o</th>\n",
       "      <th>a2p</th>\n",
       "      <th>a2s</th>\n",
       "      <th>a2o</th>\n",
       "      <th>a3p</th>\n",
       "      <th>...</th>\n",
       "      <th>b5o</th>\n",
       "      <th>level_1</th>\n",
       "      <th>level_2</th>\n",
       "      <th>level_3</th>\n",
       "      <th>level_4</th>\n",
       "      <th>level_5</th>\n",
       "      <th>bid_1_change</th>\n",
       "      <th>ask_1_change</th>\n",
       "      <th>last_ticker</th>\n",
       "      <th>bid_minus_ask</th>\n",
       "    </tr>\n",
       "  </thead>\n",
       "  <tbody>\n",
       "    <tr>\n",
       "      <th>2223889</th>\n",
       "      <td>2223889</td>\n",
       "      <td>61192863291320</td>\n",
       "      <td>NaN</td>\n",
       "      <td>NaN</td>\n",
       "      <td>NaN</td>\n",
       "      <td>NaN</td>\n",
       "      <td>NaN</td>\n",
       "      <td>NaN</td>\n",
       "      <td>NaN</td>\n",
       "      <td>NaN</td>\n",
       "      <td>...</td>\n",
       "      <td>NaN</td>\n",
       "      <td>NaN</td>\n",
       "      <td>NaN</td>\n",
       "      <td>NaN</td>\n",
       "      <td>NaN</td>\n",
       "      <td>NaN</td>\n",
       "      <td>0.00</td>\n",
       "      <td>NaN</td>\n",
       "      <td>False</td>\n",
       "      <td>NaN</td>\n",
       "    </tr>\n",
       "    <tr>\n",
       "      <th>2223890</th>\n",
       "      <td>2223890</td>\n",
       "      <td>61192863291320</td>\n",
       "      <td>NaN</td>\n",
       "      <td>NaN</td>\n",
       "      <td>NaN</td>\n",
       "      <td>NaN</td>\n",
       "      <td>NaN</td>\n",
       "      <td>NaN</td>\n",
       "      <td>NaN</td>\n",
       "      <td>NaN</td>\n",
       "      <td>...</td>\n",
       "      <td>NaN</td>\n",
       "      <td>NaN</td>\n",
       "      <td>NaN</td>\n",
       "      <td>NaN</td>\n",
       "      <td>NaN</td>\n",
       "      <td>NaN</td>\n",
       "      <td>0.00</td>\n",
       "      <td>NaN</td>\n",
       "      <td>True</td>\n",
       "      <td>NaN</td>\n",
       "    </tr>\n",
       "    <tr>\n",
       "      <th>2223891</th>\n",
       "      <td>2223891</td>\n",
       "      <td>61192386502905</td>\n",
       "      <td>NaN</td>\n",
       "      <td>NaN</td>\n",
       "      <td>NaN</td>\n",
       "      <td>NaN</td>\n",
       "      <td>NaN</td>\n",
       "      <td>NaN</td>\n",
       "      <td>NaN</td>\n",
       "      <td>NaN</td>\n",
       "      <td>...</td>\n",
       "      <td>NaN</td>\n",
       "      <td>NaN</td>\n",
       "      <td>NaN</td>\n",
       "      <td>NaN</td>\n",
       "      <td>NaN</td>\n",
       "      <td>NaN</td>\n",
       "      <td>-0.01</td>\n",
       "      <td>NaN</td>\n",
       "      <td>False</td>\n",
       "      <td>NaN</td>\n",
       "    </tr>\n",
       "    <tr>\n",
       "      <th>2223892</th>\n",
       "      <td>2223892</td>\n",
       "      <td>61192386502905</td>\n",
       "      <td>NaN</td>\n",
       "      <td>NaN</td>\n",
       "      <td>NaN</td>\n",
       "      <td>NaN</td>\n",
       "      <td>NaN</td>\n",
       "      <td>NaN</td>\n",
       "      <td>NaN</td>\n",
       "      <td>NaN</td>\n",
       "      <td>...</td>\n",
       "      <td>NaN</td>\n",
       "      <td>NaN</td>\n",
       "      <td>NaN</td>\n",
       "      <td>NaN</td>\n",
       "      <td>NaN</td>\n",
       "      <td>NaN</td>\n",
       "      <td>-0.02</td>\n",
       "      <td>NaN</td>\n",
       "      <td>False</td>\n",
       "      <td>NaN</td>\n",
       "    </tr>\n",
       "    <tr>\n",
       "      <th>2223893</th>\n",
       "      <td>2223893</td>\n",
       "      <td>61192386502905</td>\n",
       "      <td>NaN</td>\n",
       "      <td>NaN</td>\n",
       "      <td>NaN</td>\n",
       "      <td>NaN</td>\n",
       "      <td>NaN</td>\n",
       "      <td>NaN</td>\n",
       "      <td>NaN</td>\n",
       "      <td>NaN</td>\n",
       "      <td>...</td>\n",
       "      <td>NaN</td>\n",
       "      <td>NaN</td>\n",
       "      <td>NaN</td>\n",
       "      <td>NaN</td>\n",
       "      <td>NaN</td>\n",
       "      <td>NaN</td>\n",
       "      <td>NaN</td>\n",
       "      <td>NaN</td>\n",
       "      <td>True</td>\n",
       "      <td>NaN</td>\n",
       "    </tr>\n",
       "  </tbody>\n",
       "</table>\n",
       "<p>5 rows × 42 columns</p>\n",
       "</div>"
      ],
      "text/plain": [
       "         Unnamed: 0     Nanoseconds  Timestamp  a1p  a1s  a1o  a2p  a2s  a2o  \\\n",
       "2223889     2223889  61192863291320        NaN  NaN  NaN  NaN  NaN  NaN  NaN   \n",
       "2223890     2223890  61192863291320        NaN  NaN  NaN  NaN  NaN  NaN  NaN   \n",
       "2223891     2223891  61192386502905        NaN  NaN  NaN  NaN  NaN  NaN  NaN   \n",
       "2223892     2223892  61192386502905        NaN  NaN  NaN  NaN  NaN  NaN  NaN   \n",
       "2223893     2223893  61192386502905        NaN  NaN  NaN  NaN  NaN  NaN  NaN   \n",
       "\n",
       "         a3p  ...  b5o  level_1  level_2  level_3  level_4  level_5  \\\n",
       "2223889  NaN  ...  NaN      NaN      NaN      NaN      NaN      NaN   \n",
       "2223890  NaN  ...  NaN      NaN      NaN      NaN      NaN      NaN   \n",
       "2223891  NaN  ...  NaN      NaN      NaN      NaN      NaN      NaN   \n",
       "2223892  NaN  ...  NaN      NaN      NaN      NaN      NaN      NaN   \n",
       "2223893  NaN  ...  NaN      NaN      NaN      NaN      NaN      NaN   \n",
       "\n",
       "         bid_1_change  ask_1_change  last_ticker  bid_minus_ask  \n",
       "2223889          0.00           NaN        False            NaN  \n",
       "2223890          0.00           NaN         True            NaN  \n",
       "2223891         -0.01           NaN        False            NaN  \n",
       "2223892         -0.02           NaN        False            NaN  \n",
       "2223893           NaN           NaN         True            NaN  \n",
       "\n",
       "[5 rows x 42 columns]"
      ]
     },
     "execution_count": 9,
     "metadata": {},
     "output_type": "execute_result"
    }
   ],
   "source": [
    "data.tail()"
   ]
  },
  {
   "cell_type": "code",
   "execution_count": 10,
   "metadata": {},
   "outputs": [
    {
     "data": {
      "image/png": "[encoded data removed]",
      "text/plain": [
       "<Figure size 432x288 with 1 Axes>"
      ]
     },
     "metadata": {
      "needs_background": "light"
     },
     "output_type": "display_data"
    }
   ],
   "source": [
    "hplot = data.loc[data.a1s < 1000].hist(column='a1s', bins=50, )\n",
    "for ax in hplot.flatten():\n",
    "    ax.set_xlabel(\"Volume\")\n",
    "    ax.set_ylabel(\"Frequency\")\n",
    "    ax.set_title(\"SPY Level 1 Ask Volume Distribution\")"
   ]
  },
  {
   "cell_type": "code",
   "execution_count": 11,
   "metadata": {},
   "outputs": [
    {
     "data": {
      "image/png": "[encoded data removed]",
      "text/plain": [
       "<Figure size 432x288 with 1 Axes>"
      ]
     },
     "metadata": {
      "needs_background": "light"
     },
     "output_type": "display_data"
    }
   ],
   "source": [
    "hplot = data.loc[data.b1s < 1000].hist(column='b1s', bins=50)\n",
    "for ax in hplot.flatten():\n",
    "    ax.set_xlabel(\"Volume\")\n",
    "    ax.set_ylabel(\"Frequency\")\n",
    "    ax.set_title(\"SPY Level 1 Bid Volume Distribution\")"
   ]
  },
  {
   "cell_type": "markdown",
   "metadata": {
    "id": "5IpqM25MuRJt"
   },
   "source": [
    "### Implement order imbalance strategy"
   ]
  },
  {
   "cell_type": "code",
   "execution_count": 108,
   "metadata": {
    "colab": {
     "base_uri": "https://localhost:8080/"
    },
    "executionInfo": {
     "elapsed": 733899,
     "status": "ok",
     "timestamp": 1618630897152,
     "user": {
      "displayName": "Trai Torsricharoen",
      "photoUrl": "",
      "userId": "06873740785478389224"
     },
     "user_tz": -420
    },
    "id": "87xKU5kttX-0",
    "outputId": "d1626eb9-5237-452d-f66e-0f519ed036f3"
   },
   "outputs": [],
   "source": [
    "def strategy(spread=0,latency=0,volume=0):\n",
    "    \n",
    "    max_hold = 100000\n",
    "    n = len(data)\n",
    "    \n",
    "    print(f'Starting parameters... ${spread} / {latency}ns / {volume}')\n",
    "    print(f'{n} rows of data to process')\n",
    "    \n",
    "    #start_time = datetime.now()\n",
    "    buy = False\n",
    "    sell = False\n",
    "    trades = {}\n",
    "    counter = 0\n",
    "    stage = 0\n",
    "    entry_time = 0\n",
    "    exit_time = 0\n",
    "\n",
    "    for i in range(n):\n",
    "        \n",
    "        if i % 200000 == 0:\n",
    "            if i != 0:\n",
    "                elapsed = (data.Nanoseconds[i] - 28800013717272)/1000000000;\n",
    "                print(f'{len(trades)} trades made in {math.floor(elapsed/60)} minutes clock time')\n",
    "                \n",
    "\n",
    "        # LOOKING\n",
    "        if stage == 0:\n",
    "            if data.level_5[i] == 1:\n",
    "                entry_detect = data.Nanoseconds[i]\n",
    "                entry_time = entry_detect + latency                \n",
    "                price = data.a1p[i] \n",
    "                buy=True\n",
    "                stage = 1\n",
    "                continue\n",
    "\n",
    "            elif data.level_5[i] == -1:\n",
    "                entry_detect = data.Nanoseconds[i]\n",
    "                entry_time = entry_detect + latency\n",
    "                price = data.b1p[i]\n",
    "                sell=True\n",
    "                stage = 1\n",
    "                continue\n",
    "                \n",
    "        # WAITING\n",
    "        elif stage == 1:\n",
    "               \n",
    "            if (data.Nanoseconds[i] >= entry_time):   \n",
    "\n",
    "                if ((data.Nanoseconds[i] - entry_time) > max_hold):\n",
    "                    \n",
    "                    buy=False\n",
    "                    sell=False\n",
    "                    stage = 0\n",
    "                    continue\n",
    "\n",
    "                else:\n",
    "\n",
    "                    if buy:\n",
    "                        #if data.a1s[i] > volume:\n",
    "                        if price <= data.a1p[i]:\n",
    "                            entry_time = data.Nanoseconds[i]\n",
    "                            exit_time = entry_time + max_hold\n",
    "                            price = data.a1p[i]\n",
    "                            stage = 2\n",
    "                            continue\n",
    "\n",
    "                    if sell:\n",
    "                        #if data.b1p[i] > volume:\n",
    "                        if price >= data.b1p[i]:\n",
    "                            entry_time = data.Nanoseconds[i]\n",
    "                            exit_time = entry_time + max_hold\n",
    "                            price = data.b1p[i]\n",
    "                            stage = 2\n",
    "                            continue\n",
    "            \n",
    "        # EXIT\n",
    "        elif stage == 2:\n",
    "                                              \n",
    "            #check expired trades\n",
    "            \n",
    "            if (data.Nanoseconds[i] > exit_time):\n",
    "\n",
    "                if buy:\n",
    "                    #if data.a1s[i] > volume:\n",
    "                    new_trade = {'entry_time':entry_time, 'exit_time':data.Nanoseconds[i], 'buy':buy, 'sell':sell, 'entry_price':price, 'exit_price':data.a1p[i], 'change':data.bid_1_change[i], 'entry_detect':entry_detect, 'exit_detect':data.Nanoseconds[i], 'expired': True}\n",
    "                    trades[counter] = new_trade\n",
    "                    counter=counter+1\n",
    "                    buy=False\n",
    "                    stage = 0\n",
    "                    continue\n",
    "\n",
    "                if sell:\n",
    "                    #if data.b1p[i] > volume:\n",
    "                    new_trade = {'entry_time':entry_time, 'exit_time':data.Nanoseconds[i], 'buy':buy, 'sell':sell, 'entry_price':price, 'exit_price':data.b1p[i], 'change':data.ask_1_change[i], 'entry_detect':entry_detect, 'exit_detect':data.Nanoseconds[i], 'expired': True}   \n",
    "                    trades[counter] = new_trade\n",
    "                    counter=counter+1\n",
    "                    sell=False\n",
    "                    stage = 0\n",
    "                    continue\n",
    "\n",
    "\n",
    "            if (data.Nanoseconds[i] > entry_time):\n",
    "\n",
    "                if buy:                                             \n",
    "                    if (data.a1p[i] - price) > spread:\n",
    "                        new_trade = {'entry_time':entry_time, 'exit_time':data.Nanoseconds[i] , 'buy':buy, 'sell':sell, 'entry_price':price, 'exit_price':data.a1p[i], 'change':data.bid_1_change[i], 'entry_detect':entry_detect, 'exit_detect':data.Nanoseconds[i], 'expired': False }   \n",
    "                        trades[counter] = new_trade\n",
    "                        counter=counter+1\n",
    "                        buy=False\n",
    "                        stage = 0\n",
    "                        continue\n",
    "\n",
    "                if sell:                        \n",
    "                    if (price - data.b1p[i]) > spread:\n",
    "                        new_trade = {'entry_time':entry_time, 'exit_time':data.Nanoseconds[i] , 'buy':buy, 'sell':sell, 'entry_price':price, 'exit_price':data.b1p[i], 'change':data.ask_1_change[i], 'entry_detect':entry_detect, 'exit_detect':data.Nanoseconds[i], 'expired': False }   \n",
    "                        trades[counter] = new_trade\n",
    "                        counter=counter+1\n",
    "                        sell=False\n",
    "                        stage = 0\n",
    "                        continue\n",
    "                \n",
    "    return trades"
   ]
  },
  {
   "cell_type": "markdown",
   "metadata": {},
   "source": [
    "# Simulation\n",
    "\n",
    "Enter parameters in the code block below this."
   ]
  },
  {
   "cell_type": "code",
   "execution_count": 115,
   "metadata": {},
   "outputs": [
    {
     "name": "stdout",
     "output_type": "stream",
     "text": [
      "Starting parameters... $0.0 / 100000ns / 50\n",
      "2223894 rows of data to process\n",
      "4112 trades made in 103 minutes clock time\n",
      "9039 trades made in 129 minutes clock time\n",
      "13684 trades made in 161 minutes clock time\n",
      "18902 trades made in 191 minutes clock time\n",
      "24183 trades made in 228 minutes clock time\n",
      "29657 trades made in 278 minutes clock time\n",
      "34895 trades made in 320 minutes clock time\n",
      "39966 trades made in 385 minutes clock time\n",
      "45352 trades made in 410 minutes clock time\n",
      "49874 trades made in 440 minutes clock time\n",
      "55261 trades made in 479 minutes clock time\n"
     ]
    }
   ],
   "source": [
    "VOL=50\n",
    "trades = strategy(0.00,100000,VOL)"
   ]
  },
  {
   "cell_type": "code",
   "execution_count": 116,
   "metadata": {},
   "outputs": [],
   "source": [
    "df = pd.DataFrame.from_dict(trades, \"index\")\n",
    "df['duration'] = df.exit_time - df.entry_time\n",
    "df['entry_wait'] = df.entry_time - df.entry_detect\n",
    "df['exit_wait'] = df.exit_time - df.exit_detect\n",
    "df.loc[df['buy'], 'profit'] = df.exit_price - df.entry_price\n",
    "df.loc[df['sell'], 'profit'] = df.entry_price - df.exit_price"
   ]
  },
  {
   "cell_type": "code",
   "execution_count": 117,
   "metadata": {},
   "outputs": [
    {
     "name": "stdout",
     "output_type": "stream",
     "text": [
      "TRADES: 55317\n",
      "PROFIT: $-275.4999999998972\n"
     ]
    }
   ],
   "source": [
    "p = VOL*np.cumsum(df.profit)\n",
    "print(f'TRADES: {len(p)}')\n",
    "print(f'PROFIT: ${p.at[len(p)-1]}')"
   ]
  },
  {
   "cell_type": "code",
   "execution_count": 118,
   "metadata": {},
   "outputs": [
    {
     "name": "stdout",
     "output_type": "stream",
     "text": [
      "55317\n"
     ]
    },
    {
     "data": {
      "image/png": "[encoded data removed]",
      "text/plain": [
       "<Figure size 432x288 with 1 Axes>"
      ]
     },
     "metadata": {
      "needs_background": "light"
     },
     "output_type": "display_data"
    }
   ],
   "source": [
    "print(len(df.loc[df.duration > 100000 & df.expired]))\n",
    "hplot = df.loc[df.duration < 100000].hist(column='duration', bins=20)\n",
    "for ax in hplot.flatten():\n",
    "    ax.set_xlabel(\"Duration (ns)\")\n",
    "    ax.set_ylabel(\"Number of Trades\")\n",
    "    ax.set_title(\"Trade Durations\")"
   ]
  },
  {
   "cell_type": "code",
   "execution_count": 119,
   "metadata": {},
   "outputs": [
    {
     "data": {
      "image/png": "[encoded data removed]",
      "text/plain": [
       "<Figure size 432x288 with 1 Axes>"
      ]
     },
     "metadata": {
      "needs_background": "light"
     },
     "output_type": "display_data"
    }
   ],
   "source": [
    "hplot = df.hist(column='entry_wait', bins=20)\n",
    "for ax in hplot.flatten():\n",
    "    ax.set_xlabel(\"Delay (ns)\")\n",
    "    ax.set_ylabel(\"Number of Trades\")\n",
    "    ax.set_title(\"Trade Entry Delays\")"
   ]
  },
  {
   "cell_type": "code",
   "execution_count": 120,
   "metadata": {},
   "outputs": [
    {
     "name": "stdout",
     "output_type": "stream",
     "text": [
      "TRADES: 55317\n",
      "PROFIT: $-275.4999999998972\n"
     ]
    },
    {
     "data": {
      "image/png": "[encoded data removed]",
      "text/plain": [
       "<Figure size 432x288 with 1 Axes>"
      ]
     },
     "metadata": {
      "needs_background": "light"
     },
     "output_type": "display_data"
    }
   ],
   "source": [
    "print(f'TRADES: {len(p)}')\n",
    "print(f'PROFIT: ${p.at[len(p)-1]}')\n",
    "#fig = plt.figure(figsize=(24, 10))\n",
    "plt.title('Profit')\n",
    "plt.plot(range(len(p)),p)\n",
    "plt.show()"
   ]
  },
  {
   "cell_type": "code",
   "execution_count": 121,
   "metadata": {
    "colab": {
     "base_uri": "https://localhost:8080/",
     "height": 621
    },
    "executionInfo": {
     "elapsed": 734566,
     "status": "ok",
     "timestamp": 1618630897825,
     "user": {
      "displayName": "Trai Torsricharoen",
      "photoUrl": "",
      "userId": "06873740785478389224"
     },
     "user_tz": -420
    },
    "id": "QIil6GSEFbZN",
    "outputId": "8e7ccda2-fe41-40f5-e166-7f3c461a38e5"
   },
   "outputs": [
    {
     "data": {
      "image/png": "[encoded data removed]",
      "text/plain": [
       "<Figure size 432x288 with 1 Axes>"
      ]
     },
     "metadata": {
      "needs_background": "light"
     },
     "output_type": "display_data"
    }
   ],
   "source": [
    "#fig = plt.figure(figsize=(24, 10))\n",
    "plt.title('Profit')\n",
    "plt.plot(range(len(df)),df.profit)\n",
    "plt.show()"
   ]
  },
  {
   "cell_type": "code",
   "execution_count": 122,
   "metadata": {},
   "outputs": [
    {
     "data": {
      "image/png": "[encoded data removed]",
      "text/plain": [
       "<Figure size 432x288 with 1 Axes>"
      ]
     },
     "metadata": {
      "needs_background": "light"
     },
     "output_type": "display_data"
    }
   ],
   "source": [
    "hplot = df.hist(column='entry_time', bins=20)\n",
    "for ax in hplot.flatten():\n",
    "    ax.set_xlabel(\"Time (ns past midnight)\")\n",
    "    ax.set_ylabel(\"Number of Trades\")\n",
    "    ax.set_title(\"Trade Entry Times\")"
   ]
  },
  {
   "cell_type": "code",
   "execution_count": 123,
   "metadata": {},
   "outputs": [
    {
     "data": {
      "image/png": "[encoded data removed]",
      "text/plain": [
       "<Figure size 432x288 with 1 Axes>"
      ]
     },
     "metadata": {
      "needs_background": "light"
     },
     "output_type": "display_data"
    }
   ],
   "source": [
    "hplot = df.hist(column='exit_time', bins=20)\n",
    "for ax in hplot.flatten():\n",
    "    ax.set_xlabel(\"Time of Day (ns past midnight)\")\n",
    "    ax.set_ylabel(\"Number of Trades\")\n",
    "    ax.set_title(\"Trade Exit Times\")"
   ]
  }
 ],
 "metadata": {
  "colab": {
   "authorship_tag": "ABX9TyN19OquCcPCv1lGFLGkBcC8",
   "mount_file_id": "16Jn8lIa9qIWg2kNd3Vmsf7kIIYMR8ddp",
   "name": "Order Imbalance Implementation.ipynb",
   "provenance": []
  },
  "kernelspec": {
   "display_name": "Python 3",
   "language": "python",
   "name": "python3"
  },
  "language_info": {
   "codemirror_mode": {
    "name": "ipython",
    "version": 3
   },
   "file_extension": ".py",
   "mimetype": "text/x-python",
   "name": "python",
   "nbconvert_exporter": "python",
   "pygments_lexer": "ipython3",
   "version": "3.8.5"
  }
 },
 "nbformat": 4,
 "nbformat_minor": 4
}
